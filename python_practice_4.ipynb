{
  "cells": [
    {
      "cell_type": "markdown",
      "metadata": {
        "id": "kXpppdVm6wFy"
      },
      "source": [
        "# I. Functions. Arguments.\n"
      ]
    },
    {
      "cell_type": "markdown",
      "metadata": {
        "id": "u_krJdlbAkVz"
      },
      "source": [
        "1. (5б) Назвіть основні 4 смислові частини, з яких складається функція.\n"
      ]
    },
    {
      "cell_type": "markdown",
      "metadata": {
        "id": "KKTrTXmHAptb"
      },
      "source": [
        "\\*місце для текстової відповіді\n"
      ]
    },
    {
      "cell_type": "markdown",
      "metadata": {
        "id": "ORM4PqJQAtDM"
      },
      "source": [
        "2. (3б) Визначте функцію, що приймає 2 аргументи та повертає результат ділення 1го аргумента на інший.\n"
      ]
    },
    {
      "cell_type": "code",
      "execution_count": 86,
      "metadata": {
        "id": "EuDx-z8M6sLo"
      },
      "outputs": [
        {
          "data": {
            "text/plain": [
              "7.833333333333333"
            ]
          },
          "execution_count": 86,
          "metadata": {},
          "output_type": "execute_result"
        }
      ],
      "source": [
        "def division(months, year=12):\n",
        "    age = months/year\n",
        "    return age\n",
        "\n",
        "\n",
        "division(94)"
      ]
    },
    {
      "cell_type": "markdown",
      "metadata": {
        "id": "5joQGQ-SAyMe"
      },
      "source": [
        "3. (2б) Викличте вище визначену функцію, де другий аргумент дорівнює 0.\n"
      ]
    },
    {
      "cell_type": "code",
      "execution_count": 87,
      "metadata": {
        "id": "V5cBV1LOA3d-"
      },
      "outputs": [
        {
          "ename": "ZeroDivisionError",
          "evalue": "division by zero",
          "output_type": "error",
          "traceback": [
            "\u001b[1;31m---------------------------------------------------------------------------\u001b[0m",
            "\u001b[1;31mZeroDivisionError\u001b[0m                         Traceback (most recent call last)",
            "Cell \u001b[1;32mIn[87], line 1\u001b[0m\n\u001b[1;32m----> 1\u001b[0m \u001b[43mdivision\u001b[49m\u001b[43m(\u001b[49m\u001b[38;5;241;43m94\u001b[39;49m\u001b[43m,\u001b[49m\u001b[43m \u001b[49m\u001b[38;5;241;43m0\u001b[39;49m\u001b[43m)\u001b[49m\n",
            "Cell \u001b[1;32mIn[86], line 2\u001b[0m, in \u001b[0;36mdivision\u001b[1;34m(months, year)\u001b[0m\n\u001b[0;32m      1\u001b[0m \u001b[38;5;28;01mdef\u001b[39;00m \u001b[38;5;21mdivision\u001b[39m(months, year\u001b[38;5;241m=\u001b[39m\u001b[38;5;241m12\u001b[39m):\n\u001b[1;32m----> 2\u001b[0m     age \u001b[38;5;241m=\u001b[39m \u001b[43mmonths\u001b[49m\u001b[38;5;241;43m/\u001b[39;49m\u001b[43myear\u001b[49m\n\u001b[0;32m      3\u001b[0m     \u001b[38;5;28;01mreturn\u001b[39;00m age\n",
            "\u001b[1;31mZeroDivisionError\u001b[0m: division by zero"
          ]
        }
      ],
      "source": [
        "division(94, 0)"
      ]
    },
    {
      "cell_type": "markdown",
      "metadata": {
        "id": "QyimWgW8A43-"
      },
      "source": [
        "4. (4б) Перевизначте функцію так, щоби у випадку ділення на 0 функція повертала None, а в решті випадків - результат розрахунків.\n"
      ]
    },
    {
      "cell_type": "code",
      "execution_count": null,
      "metadata": {
        "id": "7VIODtSjA8Ek"
      },
      "outputs": [
        {
          "name": "stdout",
          "output_type": "stream",
          "text": [
            "None\n"
          ]
        },
        {
          "data": {
            "text/plain": [
              "7.833333333333333"
            ]
          },
          "execution_count": 8,
          "metadata": {},
          "output_type": "execute_result"
        }
      ],
      "source": [
        "def division(months, year=12):\n",
        "    if year == 0:\n",
        "        return None\n",
        "    age = months/year\n",
        "    return age\n",
        "\n",
        "\n",
        "print(division(94, 0))\n",
        "division(94)"
      ]
    },
    {
      "cell_type": "markdown",
      "metadata": {
        "id": "Y8mN0GfkA81l"
      },
      "source": [
        "5. (5б) Визначте функцію, що віднімає одне число від іншого (підказка: це буде 2 аргументи функції). При чому, якщо не визначити, скільки саме має бути віднято від числа, за замовчуванням має відніматися 1. Викличте функцію, передаючи тільки один аргумент.\n"
      ]
    },
    {
      "cell_type": "code",
      "execution_count": null,
      "metadata": {
        "id": "vg1kxkdgBA50"
      },
      "outputs": [
        {
          "data": {
            "text/plain": [
              "11"
            ]
          },
          "execution_count": 9,
          "metadata": {},
          "output_type": "execute_result"
        }
      ],
      "source": [
        "def subtr_example(diminutive, subtractor=1):\n",
        "    result = diminutive - subtractor\n",
        "    return result\n",
        "\n",
        "\n",
        "subtr_example(12)"
      ]
    },
    {
      "cell_type": "markdown",
      "metadata": {
        "id": "D3mwQGNOBBs4"
      },
      "source": [
        "6. (7б) Визначте функцію, яка приймає iterable (ітерабельний обʼєкт, напр. список), що складається з 7ми рядкових значень - назв погодних умов (напр. \"sunny\") за кожен день у тижні. Повертає функція словник, де ключами є рядки з погодними умовами, а значеннями - кількість разів, скільки дана погода була протягом тижня (напр. {'sunny': 1, ...}). Викличте цю функцію та виведіть результат її роботи на екран.\n"
      ]
    },
    {
      "cell_type": "code",
      "execution_count": null,
      "metadata": {
        "id": "OsWm-hKcBFyn"
      },
      "outputs": [
        {
          "data": {
            "text/plain": [
              "{'sunny': 3, 'gloomy': 1, 'rainy': 2, 'snowy': 1}"
            ]
          },
          "execution_count": 15,
          "metadata": {},
          "output_type": "execute_result"
        }
      ],
      "source": [
        "def weekly_weather_info(weather):\n",
        "    info = {v: weather.count(v) for v in weather}\n",
        "    return info\n",
        "\n",
        "\n",
        "weather = [\"sunny\", \"gloomy\", \"rainy\", \"snowy\", \"rainy\", \"sunny\", \"sunny\"]\n",
        "weekly_weather_info(weather)"
      ]
    },
    {
      "cell_type": "markdown",
      "metadata": {
        "id": "RMiCcdOsBKQT"
      },
      "source": [
        "7. (15б) Напишіть програму, яка б шукала необхідне число у впорядкованому списку цілочислених значень, де\n",
        "   число має вводитись з консолі.\n",
        "   власне алгоритм пошуку винесений в окрему функцію, яка повертає булеве значення (знайдено число - True, не знайдено - False).\n",
        "   в залежності від результату функції, виведіть на екран повідомлення про успішний або ж неуспішний пошук.\n",
        "   Зауваження: використовувати оператор in заборонено.\n"
      ]
    },
    {
      "cell_type": "code",
      "execution_count": 20,
      "metadata": {
        "id": "UNCZg65OBOy-"
      },
      "outputs": [
        {
          "data": {
            "text/plain": [
              "False"
            ]
          },
          "execution_count": 20,
          "metadata": {},
          "output_type": "execute_result"
        }
      ],
      "source": [
        "def find_num(user_num, given_numbers):\n",
        "    if given_numbers.count(user_num) > 0:\n",
        "        return True\n",
        "    return False\n",
        "\n",
        "\n",
        "given_numbers = [1, 2, 3, 4, 5, 6, 7, 8, 9, 10, 11, 12, 13]\n",
        "user_num = int(input(\"Type number: \"))\n",
        "\n",
        "\n",
        "find_num(user_num, given_numbers)"
      ]
    },
    {
      "cell_type": "markdown",
      "metadata": {
        "id": "Ae1n_OvLBTsy"
      },
      "source": [
        "# II. Lambda functions.\n"
      ]
    },
    {
      "cell_type": "markdown",
      "metadata": {
        "id": "xaD_wSlaCWen"
      },
      "source": [
        "8. (4б) В яких випадках варто використовувати лямбда-функції?\n"
      ]
    },
    {
      "cell_type": "markdown",
      "metadata": {
        "id": "42MB6OoLCakR"
      },
      "source": [
        "When we need to make a small and short (one expression) function\n",
        "\n",
        "example:\n",
        "x = lambda a, b : a \\* b\n",
        "\n",
        "print(x(5, 6))\n"
      ]
    },
    {
      "cell_type": "markdown",
      "metadata": {
        "id": "USrzrk7GCedk"
      },
      "source": [
        "9. (9б) Визначте список з рядками. Після цього визначте анонімну функцію для отримання першого символу у верхньому регістрі для кожного рядка списку.\n",
        "   Підказка: використовуйте анонімну функцію в якості агрумента до вбудованої ф-ції, яка створена для застосування функцій над iterable обʼєктами. Результат виведіть на екран у вигляді кортежу.\n"
      ]
    },
    {
      "cell_type": "code",
      "execution_count": null,
      "metadata": {
        "id": "M8QWUsMlCjWH"
      },
      "outputs": [
        {
          "name": "stdout",
          "output_type": "stream",
          "text": [
            "('C', 'A', 'P', 'P', 'P')\n"
          ]
        }
      ],
      "source": [
        "garden_trees = [\"Cherries\", \"Apples\", \"Pears\", \"Peaches\", \"Plums\"]\n",
        "def get_first_upper_letter(tree): return tree[0].upper()\n",
        "\n",
        "\n",
        "def show_first_upper_letter(getfLetterFunct):\n",
        "    firstLetters = tuple(map(getfLetterFunct, garden_trees))\n",
        "    return firstLetters\n",
        "\n",
        "\n",
        "result = show_first_upper_letter(get_first_upper_letter)\n",
        "print(result)"
      ]
    },
    {
      "cell_type": "markdown",
      "metadata": {},
      "source": [
        "get_first_upper_letter = lambda tree: tree[0].upper()\n",
        "\n",
        "LAMBDA for previos function, my code editor formats code and removes lambda\n"
      ]
    },
    {
      "cell_type": "markdown",
      "metadata": {
        "id": "9fyUhXOoCtGp"
      },
      "source": [
        "10. (10б) Визначте список з числовими значеннями (і цілими, і з рухомою комою). а) Відфільтруйте всі числа, які діляться націло на 3 за допомогою вбудованої функції та анонімної функції в якості аргумента). Збережіть результат у змінній, не приводяти явно до будь-якого типу. б) Використовуючи результат на кроці 12.а у якості аргументу, та за допомогою лямбда-функції в якості іншого аргументу до вбудованої функції, додайте до кожного елементу число 1 та опісля зведіть у квадрат. Остаточний результат приведіть явно до списку та виведіть на екран.\n"
      ]
    },
    {
      "cell_type": "code",
      "execution_count": null,
      "metadata": {
        "id": "exEx2_okCsql"
      },
      "outputs": [
        {
          "name": "stdout",
          "output_type": "stream",
          "text": [
            "[12, 24, 36, 48, 60]\n",
            "[169, 625, 1369, 2401, 3721]\n"
          ]
        }
      ],
      "source": [
        "all_num_list = [12, 12.5, 16, 90.2, 11, 100, 10.01, 24, 36, 48, 60]\n",
        "power_of_added_one = []\n",
        "cleaned_res = []\n",
        "\n",
        "\n",
        "cleaned_res = list(filter(lambda num: num % 3 == 0, all_num_list))\n",
        "print(cleaned_res)\n",
        "\n",
        "power_of_added_one = list(map(lambda num: (num + 1) ** 2, cleaned_res))\n",
        "print(power_of_added_one)"
      ]
    },
    {
      "cell_type": "markdown",
      "metadata": {},
      "source": [
        "cleaned_res = list(filter(lambda num: num % 3 == 0, all_num_list))\n",
        "\n",
        "power_of_added_one = list(map(lambda num: (num + 1) \\*\\* 2, cleaned_res))\n"
      ]
    },
    {
      "cell_type": "markdown",
      "metadata": {
        "id": "o_x8cG_WC7jp"
      },
      "source": [
        "# III. Decorators.\n"
      ]
    },
    {
      "cell_type": "markdown",
      "metadata": {
        "id": "mhxS4-mfC8LQ"
      },
      "source": [
        "11. (11б) Визначте декоратор, який би виводив у консоль повідомлення про початок роботи і назву функції (напр. my*function.* _ name _ \\_), а після відпрацювання функції - повідомлення про закінчення роботи і назву функції, що задекорована.\n"
      ]
    },
    {
      "cell_type": "code",
      "execution_count": null,
      "metadata": {
        "id": "srd1ygWjDGhO"
      },
      "outputs": [
        {
          "name": "stdout",
          "output_type": "stream",
          "text": [
            "Function 'greet' starts working\n",
            "Hello, World!\n",
            "Fuction ended working.\n"
          ]
        }
      ],
      "source": [
        "# A simple decorator function\n",
        "def decorator(func):\n",
        "\n",
        "    def wrapper(*args, **kwargs):\n",
        "        print(f\"Function '{func.__name__}' starts working\")\n",
        "        result = func(*args, **kwargs)\n",
        "        print(\"Fuction ended working.\")\n",
        "        return result\n",
        "    return wrapper\n",
        "\n",
        "# Applying the decorator to a function\n",
        "\n",
        "\n",
        "@decorator\n",
        "def greet():\n",
        "    print(\"Hello, World!\")\n",
        "\n",
        "\n",
        "greet()"
      ]
    },
    {
      "cell_type": "markdown",
      "metadata": {
        "id": "rxGZwVBiDph3"
      },
      "source": [
        "12. (4б) Задекоруйте двома різними способами функції з завдання 4 та 5 декоратором із завдання 11. (**УВАГА**: не декоруйте функції двічі!).\n"
      ]
    },
    {
      "cell_type": "code",
      "execution_count": null,
      "metadata": {
        "id": "06lj7eq_DwZe"
      },
      "outputs": [],
      "source": [
        "@decorator\n",
        "def division(months, year=12):\n",
        "    if year == 0:\n",
        "        return None\n",
        "    age = months/year\n",
        "    return age\n",
        "\n",
        "\n",
        "subtr_example = decorator(subtr_example)"
      ]
    },
    {
      "cell_type": "markdown",
      "metadata": {
        "id": "P0ep1urBDzf-"
      },
      "source": [
        "13. (2б) Викличте одну з задекорованих функцій і виведіть її результат на екран.\n"
      ]
    },
    {
      "cell_type": "code",
      "execution_count": null,
      "metadata": {
        "id": "1QvTw0ctD0S3"
      },
      "outputs": [
        {
          "name": "stdout",
          "output_type": "stream",
          "text": [
            "Function 'division' starts working\n",
            "Fuction ended working.\n",
            "7.833333333333333\n",
            "Function 'subtr_example' starts working\n",
            "Fuction ended working.\n",
            "11\n"
          ]
        }
      ],
      "source": [
        "print(division(94))\n",
        "print(subtr_example(12))"
      ]
    },
    {
      "cell_type": "markdown",
      "metadata": {
        "id": "poECCpuoD2S9"
      },
      "source": [
        "# IV. Recursion.\n"
      ]
    },
    {
      "cell_type": "markdown",
      "metadata": {
        "id": "DqkURfdsD7MY"
      },
      "source": [
        "14. (4б) Назвіть дві частини функції, які є обовʼязковими для того, щоб називати її рекурсивною.\n"
      ]
    },
    {
      "cell_type": "markdown",
      "metadata": {
        "id": "HYW6ttIeIQIU"
      },
      "source": [
        "function repeats itself, has base case.\n",
        "\n",
        "def function(smth):\n",
        "\n",
        "    if smth> 0:\n",
        "        result = 1+ function(smth)\n",
        "\n",
        "    else: return result\n"
      ]
    },
    {
      "cell_type": "markdown",
      "metadata": {
        "id": "WYVt20UmEA35"
      },
      "source": [
        "15. (15б) Визначте функцію, яка рекурсивно реалізовує пошук числа у послідовності Фібоначчі за її індексом (нумерація починається з нуля). Наприклад, потрібно знайти перше число у послідовності, тоді функція прийматиме 0 у якості аргумента і повертатиме 1, якщо ж знаходити третє число (індекс 2) послідовності, то функція повертатиме 2, якщо ж знаходити десяте число (індекс 9), то функція повертатиме 55.\n"
      ]
    },
    {
      "cell_type": "code",
      "execution_count": null,
      "metadata": {
        "id": "xIMhp05AIpV_"
      },
      "outputs": [
        {
          "name": "stdout",
          "output_type": "stream",
          "text": [
            "Number at index 2 = 1\n"
          ]
        }
      ],
      "source": [
        "def find_fibonacci_number(n):\n",
        "    if n == 0:\n",
        "        return 0\n",
        "    elif n == 1:\n",
        "        return 1\n",
        "    else:\n",
        "        return find_fibonacci_number(n - 1) + find_fibonacci_number(n - 2)\n",
        "\n",
        "\n",
        "user_index = int(input(\"Find number by index: \"))\n",
        "result = find_fibonacci_number(user_index)\n",
        "print(f\"Number at index {user_index} = {result}\")"
      ]
    },
    {
      "cell_type": "markdown",
      "metadata": {
        "id": "ytXC8n_4Ip0W"
      },
      "source": [
        "# Вітаю! Ви велика(ий) молодець, що впоралась(вся). Похваліть себе та побалуйте чимось приємним. Я Вами пишаюся.\n"
      ]
    }
  ],
  "metadata": {
    "colab": {
      "provenance": []
    },
    "kernelspec": {
      "display_name": "Python 3",
      "name": "python3"
    },
    "language_info": {
      "codemirror_mode": {
        "name": "ipython",
        "version": 3
      },
      "file_extension": ".py",
      "mimetype": "text/x-python",
      "name": "python",
      "nbconvert_exporter": "python",
      "pygments_lexer": "ipython3",
      "version": "3.12.4"
    }
  },
  "nbformat": 4,
  "nbformat_minor": 0
}
