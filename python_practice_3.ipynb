{
  "cells": [
    {
      "cell_type": "markdown",
      "metadata": {
        "id": "qDEi2Pi-4yUC"
      },
      "source": [
        "# I. Оператори порівняння та логічні оператори. Умови.\n"
      ]
    },
    {
      "cell_type": "markdown",
      "metadata": {
        "id": "3v8D4Dkm43Ua"
      },
      "source": [
        "1. (5б) Створіть цілочисленну змінну зі своїм щасливим або улюбленим числом. Напишіть код, який би автоматизовував наступну задачу.\n",
        "\n",
        "Якщо число парне, помножте його на 2 та виведіть результат на екран.\n",
        "\n",
        "Але якщо число непарне, помножте його на 3 та додайте 1 і виведіть на екран.\n"
      ]
    },
    {
      "cell_type": "code",
      "execution_count": null,
      "metadata": {
        "id": "dlVjc-Nu4bmb"
      },
      "outputs": [
        {
          "name": "stdout",
          "output_type": "stream",
          "text": [
            "Number is odd, 4\n"
          ]
        }
      ],
      "source": [
        "favNumber = 1\n",
        "\n",
        "if favNumber % 2 == 0:\n",
        "    print(f\"Number is even, result is: {favNumber *2}\")\n",
        "else:\n",
        "    print(F\"Number is odd, {favNumber*3+1}\")"
      ]
    },
    {
      "cell_type": "markdown",
      "metadata": {
        "id": "H669P0QK5BI_"
      },
      "source": [
        "2. (9б) Створіть змінну, що посилається на список. Якщо список пустий, додайте будь-який елемент у кінець списку. Якщо ж ні, то нічого не робіть.\n"
      ]
    },
    {
      "cell_type": "code",
      "execution_count": 11,
      "metadata": {
        "id": "ecWlfra45f6E"
      },
      "outputs": [
        {
          "name": "stdout",
          "output_type": "stream",
          "text": [
            "[5]\n"
          ]
        }
      ],
      "source": [
        "employee_list = [5]\n",
        "print(employee_list)\n",
        "if not employee_list:\n",
        "    employee_list.append(2)\n",
        "    print(\"Added new number: \", employee_list)"
      ]
    },
    {
      "cell_type": "markdown",
      "metadata": {
        "id": "h9Y3cMUd5h85"
      },
      "source": [
        "3. (13б) Створіть рядок зі своїм імʼям латинкою. Напишіть код, який би автоматизовував наступну задачу.\n",
        "\n",
        "Якщо в імені є літера \"а\"\n",
        "або \"i\", Виведіть на екран повідомлення \"A or I is in the name\".\n",
        "\n",
        "Якщо в імені є літери \"o\" та \"n\", Виведіть на екран повідомлення \"O and N is in the name\".\n",
        "\n",
        "Також якщо в імені немає літери \"о\", але є \"n\", Виведіть на екран повідомлення \"Only N is in the name\".\n",
        "\n",
        "В решті випадків виведіть на екран повідомлення \"There is no N in the name, but there might be O\".\n",
        "\n",
        "Зверніть увагу, що, наприклад, для імені \"Antonina\" буде виведено два повідомлення.\n"
      ]
    },
    {
      "cell_type": "code",
      "execution_count": 95,
      "metadata": {
        "id": "bUH4LUx35u52"
      },
      "outputs": [
        {
          "name": "stdout",
          "output_type": "stream",
          "text": [
            "ZLATA\n",
            "A or I is in the name\n",
            "There is no N in the name, but there might be O\n"
          ]
        }
      ],
      "source": [
        "name = \"zlata\"\n",
        "name = name.upper()\n",
        "print(name)\n",
        "if \"A\" in name or \"I\" in name:\n",
        "    print(\"A or I is in the name\")\n",
        "if \"O\" in name and \"N\" in name:\n",
        "    print(\"O and N is in the name\")\n",
        "elif \"N\" in name:\n",
        "    print(\"Only N is in the name\")\n",
        "else:\n",
        "    print(\"There is no N in the name, but there might be O\")"
      ]
    },
    {
      "cell_type": "markdown",
      "metadata": {
        "id": "wPCXJv4354cU"
      },
      "source": [
        "# II. Comprehensions.\n"
      ]
    },
    {
      "cell_type": "markdown",
      "metadata": {
        "id": "jULLW5jN55Pw"
      },
      "source": [
        "4. (5б) Створіть список, використовуючи if (не if-else), range та comprehension.\n"
      ]
    },
    {
      "cell_type": "code",
      "execution_count": 37,
      "metadata": {
        "id": "mlZalnVC6W3F"
      },
      "outputs": [
        {
          "name": "stdout",
          "output_type": "stream",
          "text": [
            "[80, 82, 84, 86, 88, 90, 92, 94, 96, 98]\n"
          ]
        }
      ],
      "source": [
        "salary = range(80, 120, 2)\n",
        "increase_salary = []\n",
        "increase_salary = [x for x in salary if x < 100]\n",
        "print(increase_salary)"
      ]
    },
    {
      "cell_type": "markdown",
      "metadata": {
        "id": "LqhEQ4JW6XcC"
      },
      "source": [
        "5. (9б) Створіть словник, використовуючи dict comprehension, що містить if else. Коли слід використовувати comprehensions, а коли їх слід уникати?\n"
      ]
    },
    {
      "cell_type": "code",
      "execution_count": 40,
      "metadata": {
        "id": "1yVaFbOs6hta"
      },
      "outputs": [
        {
          "name": "stdout",
          "output_type": "stream",
          "text": [
            "{'juno': 'not passed', 'jack': 'passed', 'michael': 'passed', 'guido': 'passed', 'john': 'passed'}\n"
          ]
        }
      ],
      "source": [
        "examMarks = {'juno': 28, 'jack': 38, 'michael': 48, 'guido': 57, 'john': 33}\n",
        "review = {k: ('not passed' if v < 30 else 'passed')\n",
        "          for (k, v) in examMarks.items()}\n",
        "print(review)"
      ]
    },
    {
      "cell_type": "markdown",
      "metadata": {
        "id": "wbkzNhKq6hzz"
      },
      "source": [
        "we should use it in cases of fast, concise and easy check, and avoid when the comprehension becomes too complex, long or in case or error handling.\n"
      ]
    },
    {
      "cell_type": "markdown",
      "metadata": {
        "id": "ZlqB8G3G6lHP"
      },
      "source": [
        "6. (9б) Створіть список з рядками та запишіть його у змінну. Створіть ще один список на основі попереднього, де кожен рядок буде містити тільки три перших заглавних символи. Наприклад: ['hello', 'i', 'dont', 'care'] -> ['HEL', 'I', 'DON', 'CAR']. Використання comprehensions обовʼязкове.\n"
      ]
    },
    {
      "cell_type": "code",
      "execution_count": 43,
      "metadata": {
        "id": "nw6rz0bR60VC"
      },
      "outputs": [
        {
          "name": "stdout",
          "output_type": "stream",
          "text": [
            "['HEL', 'I', 'DON', 'CAR']\n"
          ]
        }
      ],
      "source": [
        "draft_sentence = ['hello', 'i', 'dont', 'care']\n",
        "checked_sentence = [x[:3].upper() for x in draft_sentence]\n",
        "print(checked_sentence)"
      ]
    },
    {
      "cell_type": "markdown",
      "metadata": {
        "id": "Tj573IAH64Fz"
      },
      "source": [
        "# III. Цикли.\n"
      ]
    },
    {
      "cell_type": "markdown",
      "metadata": {
        "id": "tN_33xdE65H5"
      },
      "source": [
        "7. (5б) Продемонструйте роботу циклу while. Не можна використовувати True для запуску циклу, щоб уникнути безкінечного циклу!\n"
      ]
    },
    {
      "cell_type": "code",
      "execution_count": 45,
      "metadata": {
        "id": "Kd9FO6yG63P5"
      },
      "outputs": [
        {
          "name": "stdout",
          "output_type": "stream",
          "text": [
            "Not allowed!\n",
            "Not allowed!\n",
            "Not allowed!\n",
            "Not allowed!\n",
            "Not allowed!\n",
            "Not allowed!\n",
            "Now you are 21, come in.\n"
          ]
        }
      ],
      "source": [
        "age = 15\n",
        "while age < 21:\n",
        "    print(\"Not allowed!\")\n",
        "    age += 1\n",
        "else:\n",
        "    print(f\"Now you are {age}, come in.\")"
      ]
    },
    {
      "cell_type": "markdown",
      "metadata": {
        "id": "x2CmfZO-7pW0"
      },
      "source": [
        "8. (5б) Напишіть програму, яка виведе на екран непарні числа в діапазоні від 0 до 20 включно.\n"
      ]
    },
    {
      "cell_type": "code",
      "execution_count": null,
      "metadata": {
        "id": "aCSRYA6s7tkF"
      },
      "outputs": [
        {
          "name": "stdout",
          "output_type": "stream",
          "text": [
            "1\n",
            "3\n",
            "5\n",
            "7\n",
            "9\n",
            "11\n",
            "13\n",
            "15\n",
            "17\n",
            "19\n"
          ]
        }
      ],
      "source": [
        "age = range(1, 20, 2)\n",
        "for a in age:\n",
        "    print(a)"
      ]
    },
    {
      "cell_type": "markdown",
      "metadata": {
        "id": "MDWNocZD7t_B"
      },
      "source": [
        "9. (13б) Створіть список з елементами булевого типу або None. Використовуючи цикли, отримайте в результаті список з кортежами, де перший елемент кортежу - індекс(ціле число), а другий елемент - відповідне значення з першого списку.\n",
        "\n",
        "Наприклад, [True, True, None, False] -> [(0, True), (1, True), (2, None), (3, False)]\n"
      ]
    },
    {
      "cell_type": "code",
      "execution_count": null,
      "metadata": {
        "id": "0EUyjMdp7yfh"
      },
      "outputs": [
        {
          "name": "stdout",
          "output_type": "stream",
          "text": [
            "[(0, True), (1, True), (2, None), (3, False)]\n"
          ]
        }
      ],
      "source": [
        "my_list = [True, True, None, False]\n",
        "indexed_list = []\n",
        "for i, v in enumerate(my_list):\n",
        "    indexed_list.append((i, v))\n",
        "print(indexed_list)"
      ]
    },
    {
      "cell_type": "markdown",
      "metadata": {
        "id": "-6XUqlcG7zKs"
      },
      "source": [
        "10. (9б) Створіть словник, де ключі - назви книжок, а значення - їхня кількість у наявності в Вашій міні-бібліотеці. Бібліотека має містити щонайменше 6 книжок (6 пар значень у словнику) і щонайбільше 10 (пар значень). Використовуючи цикли, оновіть словник (не створюйте новий) так, щоби кількість книг у наявності збільшилося на 5 кожної книги. Наприклад,\n",
        "    {'It': 3, 'Fault stars': 10, 'Bible': 17, 'Psychological romance': 4, 'Harry Potter': 13} -> {'It': 8, 'Fault stars': 15, 'Bible': 22, 'Psychological romance': 9, 'Harry Potter': 18}\n"
      ]
    },
    {
      "cell_type": "code",
      "execution_count": null,
      "metadata": {
        "id": "Ceoj9wwb791q"
      },
      "outputs": [
        {
          "name": "stdout",
          "output_type": "stream",
          "text": [
            "{'Green Mile': 2, 'It': 3, 'Fault stars': 10, 'Bible': 17, 'Psychological romance': 4, 'Harry Potter': 13}\n",
            "{'Green Mile': 7, 'It': 8, 'Fault stars': 15, 'Bible': 22, 'Psychological romance': 9, 'Harry Potter': 18}\n"
          ]
        }
      ],
      "source": [
        "library = {'Green Mile': 2, 'It': 3, 'Fault stars': 10,\n",
        "           'Bible': 17, 'Psychological romance': 4, 'Harry Potter': 13}\n",
        "print(library)\n",
        "for k in library:\n",
        "    library[k] += 5\n",
        "print(library)"
      ]
    },
    {
      "cell_type": "markdown",
      "metadata": {
        "id": "QLzyJM288AC7"
      },
      "source": [
        "11. (5б) Визначте цілочислену змінну n, що належить проміжку від 4 до 10 включно. Використовуючи цикли, виведіть в консоль наступний патерн.\n",
        "\n",
        "#\n",
        "\n",
        "##\n",
        "\n",
        "###\n",
        "\n",
        "####\n",
        "\n",
        "... #\\*n\n"
      ]
    },
    {
      "cell_type": "code",
      "execution_count": null,
      "metadata": {
        "id": "KOpng87s8Duz"
      },
      "outputs": [
        {
          "name": "stdout",
          "output_type": "stream",
          "text": [
            "#\n",
            "##\n",
            "###\n",
            "####\n",
            "#####\n"
          ]
        }
      ],
      "source": [
        "n = 5\n",
        "step = 0\n",
        "while step < n:\n",
        "    step += 1\n",
        "    print('#'*step)"
      ]
    },
    {
      "cell_type": "markdown",
      "metadata": {
        "id": "_bd-bqAT8EHn"
      },
      "source": [
        "12. (13б) Гра \"Нумо вгадай\".\n",
        "    Розробіть просту гру, де користувач має вгадати випадкове число від 1 до 100. Для генерації випадкового числа використовуйте функцію random.randint(a, b) (тут a та b включно). Для отримання числа з консолі використовуйте функцію input(), результат якої обовʼязково явно приведіть до типу int.\n",
        "\n",
        "Підказка: використовуйте цикл while та умови if-else, щоб повідомити користувачу піказки (напр. \"Більше\", \"Менше\") поки користувач не вгадає. По завершенню виведіть кількість спроб, які знадобилися для вгадування.\n"
      ]
    },
    {
      "cell_type": "code",
      "execution_count": 91,
      "metadata": {
        "id": "IK9nnxFK8Hkl"
      },
      "outputs": [
        {
          "name": "stdout",
          "output_type": "stream",
          "text": [
            "9\n"
          ]
        },
        {
          "name": "stdout",
          "output_type": "stream",
          "text": [
            "Secret number is lower\n",
            "Secret number is lower\n",
            "You guessed!\n"
          ]
        }
      ],
      "source": [
        "import random\n",
        "secretNumber = random.randint(1, 100)\n",
        "print(secretNumber)\n",
        "\n",
        "guess = 0\n",
        "while guess != secretNumber:\n",
        "    guess = int(input(\"Guess the number: \"))\n",
        "    try:\n",
        "        if guess < secretNumber:\n",
        "            print(\"Secret number is bigger\")\n",
        "        elif guess > secretNumber:\n",
        "            print(\"Secret number is lower\")\n",
        "        else:\n",
        "            print(\"You guessed!\")\n",
        "\n",
        "    except ValueError:\n",
        "        print(\"Type number\")"
      ]
    },
    {
      "cell_type": "markdown",
      "metadata": {
        "id": "PXoXWb7Z8IGi"
      },
      "source": [
        "# Вітаю! Ви велика(ий) молодець, що впоралась(вся). Похваліть себе та побалуйте чимось приємним. Я Вами пишаюся.\n"
      ]
    }
  ],
  "metadata": {
    "colab": {
      "provenance": []
    },
    "kernelspec": {
      "display_name": "base",
      "language": "python",
      "name": "python3"
    },
    "language_info": {
      "codemirror_mode": {
        "name": "ipython",
        "version": 3
      },
      "file_extension": ".py",
      "mimetype": "text/x-python",
      "name": "python",
      "nbconvert_exporter": "python",
      "pygments_lexer": "ipython3",
      "version": "3.12.3"
    }
  },
  "nbformat": 4,
  "nbformat_minor": 0
}
